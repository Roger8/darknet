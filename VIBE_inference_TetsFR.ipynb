{
  "nbformat": 4,
  "nbformat_minor": 0,
  "metadata": {
    "colab": {
      "name": "VIBE_inference_TetsFR.ipynb",
      "provenance": [],
      "collapsed_sections": [],
      "authorship_tag": "ABX9TyPN5ax04as5PXVWWuE6SH+p",
      "include_colab_link": true
    },
    "kernelspec": {
      "name": "python3",
      "display_name": "Python 3"
    }
  },
  "cells": [
    {
      "cell_type": "markdown",
      "metadata": {
        "id": "view-in-github",
        "colab_type": "text"
      },
      "source": [
        "<a href=\"https://colab.research.google.com/github/Tetsujinfr/darknet/blob/master/VIBE_inference_TetsFR.ipynb\" target=\"_parent\"><img src=\"https://colab.research.google.com/assets/colab-badge.svg\" alt=\"Open In Colab\"/></a>"
      ]
    },
    {
      "cell_type": "code",
      "metadata": {
        "id": "fzzHjU8TiYwB",
        "colab_type": "code",
        "colab": {}
      },
      "source": [
        "# build openpose STAF branch\n",
        "\n",
        "import os\n",
        "from os.path import exists, join, basename, splitext\n",
        "#Oroginal openpose repo:\n",
        "#git_repo_url = 'https://github.com/CMU-Perceptual-Computing-Lab/openpose.git'\n",
        "#STAF repo\n",
        "git_repo_url = '-b staf https://github.com/soulslicer/openpose.git'\n",
        "\n",
        "project_name = splitext(basename(git_repo_url))[0]\n",
        "if not exists(project_name):\n",
        "  # see: https://github.com/CMU-Perceptual-Computing-Lab/openpose/issues/949\n",
        "  # install new CMake becaue of CUDA10\n",
        "  !wget -q https://cmake.org/files/v3.13/cmake-3.13.0-Linux-x86_64.tar.gz\n",
        "  !tar xfz cmake-3.13.0-Linux-x86_64.tar.gz --strip-components=1 -C /usr/local\n",
        "  # clone openpose\n",
        "  !git clone -q --depth 1 $git_repo_url\n",
        "  !sed -i 's/execute_process(COMMAND git checkout master WORKING_DIRECTORY ${CMAKE_SOURCE_DIR}\\/3rdparty\\/caffe)/execute_process(COMMAND git checkout f019d0dfe86f49d1140961f8c7dec22130c83154 WORKING_DIRECTORY ${CMAKE_SOURCE_DIR}\\/3rdparty\\/caffe)/g' openpose/CMakeLists.txt\n",
        "  # install system dependencies\n",
        "  !apt-get -qq install -y libatlas-base-dev libprotobuf-dev libleveldb-dev libsnappy-dev libhdf5-serial-dev protobuf-compiler libgflags-dev libgoogle-glog-dev liblmdb-dev opencl-headers ocl-icd-opencl-dev libviennacl-dev\n",
        "  # install python dependencies\n",
        "  !pip install -q youtube-dl\n",
        "  # build openpose\n",
        "  !cd openpose && rm -rf build || true && mkdir build && cd build && cmake .. && make -j`nproc`\n",
        "  "
      ],
      "execution_count": 0,
      "outputs": []
    },
    {
      "cell_type": "code",
      "metadata": {
        "id": "c9KFRRdEisst",
        "colab_type": "code",
        "colab": {}
      },
      "source": [
        "#Install STAF models\n",
        "%cd /content/openpose/models\n",
        "!sh getModels.sh"
      ],
      "execution_count": 0,
      "outputs": []
    },
    {
      "cell_type": "code",
      "metadata": {
        "id": "SsH0qFHfitdE",
        "colab_type": "code",
        "colab": {}
      },
      "source": [
        "# Clone the VIBE repo and install VIBE\n",
        "%cd /content\n",
        "!git clone https://github.com/mkocabas/VIBE.git\n",
        "%cd VIBE/\n",
        "# Install the other requirements\n",
        "!pip install torch==1.4.0 numpy==1.17.5\n",
        "!pip install enum34==1.1\n",
        "!pip install -r requirements.txt"
      ],
      "execution_count": 0,
      "outputs": []
    },
    {
      "cell_type": "code",
      "metadata": {
        "id": "NQzX81-mi3ap",
        "colab_type": "code",
        "colab": {}
      },
      "source": [
        "# Download pretrained weights and SMPL data to run VIBE\n",
        "!sh prepare_data.sh"
      ],
      "execution_count": 0,
      "outputs": []
    },
    {
      "cell_type": "code",
      "metadata": {
        "id": "7vJcPSEBi4MZ",
        "colab_type": "code",
        "colab": {}
      },
      "source": [
        "#Install BBOX multitracker\n",
        "%cd /content/VIBE/\n",
        "!pip install git+https://github.com/mkocabas/multi-person-tracker.git"
      ],
      "execution_count": 0,
      "outputs": []
    },
    {
      "cell_type": "code",
      "metadata": {
        "id": "_YfLKaRwjDbn",
        "colab_type": "code",
        "colab": {}
      },
      "source": [
        "# download the youtube you want to infer with the given ID\n",
        "YOUTUBE_ID = 'EB_b8JVPuw8'\n",
        "YouTubeVideo(YOUTUBE_ID)\n",
        "!rm -rf youtube.mp4\n",
        "!youtube-dl -f 'bestvideo[ext=mp4]' --output \"youtube.%(ext)s\" https://www.youtube.com/watch?v=$YOUTUBE_ID\n",
        "!ffmpeg -y -loglevel info -i youtube.mp4 -ss 00:00:23 -t 46 /content/video.mp4"
      ],
      "execution_count": 0,
      "outputs": []
    },
    {
      "cell_type": "code",
      "metadata": {
        "id": "zwr7x_OajZTf",
        "colab_type": "code",
        "colab": {}
      },
      "source": [
        "\n",
        "# Run the VIBE demo\n",
        "!python demo.py --vid_file /content/video.mp4 --output_folder output/ --tracking_method pose --run_smplify --staf_dir /content/openpose/ # temporal tracking\n",
        "#!python demo.py --vid_file video.mp4 --output_folder output/ --tracking_method bbox --detector maskrcnn --wireframe --sideview # bounding box multitracker\n",
        "# You may use --sideview flag to enable from a different viewpoint, note that this doubles rendering time.\n",
        "# !python demo.py --vid_file sample_video.mp4 --output_folder output/ --sideview"
      ],
      "execution_count": 0,
      "outputs": []
    },
    {
      "cell_type": "code",
      "metadata": {
        "id": "90cnSNJOjdmG",
        "colab_type": "code",
        "colab": {}
      },
      "source": [
        "# Play the generated video\n",
        "from IPython.display import HTML\n",
        "from base64 import b64encode\n",
        "\n",
        "def video(path):\n",
        "  mp4 = open(path,'rb').read()\n",
        "  data_url = \"data:video/mp4;base64,\" + b64encode(mp4).decode()\n",
        "  return HTML('<video width=500 controls loop> <source src=\"%s\" type=\"video/mp4\"></video>' % data_url)\n",
        "\n",
        "video('output/video/video_vibe_result.mp4')"
      ],
      "execution_count": 0,
      "outputs": []
    },
    {
      "cell_type": "code",
      "metadata": {
        "id": "45tkiOaLkADS",
        "colab_type": "code",
        "colab": {}
      },
      "source": [
        "# Use the colab file explorer to download your video inference output"
      ],
      "execution_count": 0,
      "outputs": []
    }
  ]
}